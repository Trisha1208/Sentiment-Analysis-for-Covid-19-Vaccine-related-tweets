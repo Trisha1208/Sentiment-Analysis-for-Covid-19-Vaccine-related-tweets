{
  "nbformat": 4,
  "nbformat_minor": 0,
  "metadata": {
    "colab": {
      "name": "Classification_CovidVaccine_Sentiments.ipynb",
      "provenance": [],
      "collapsed_sections": []
    },
    "kernelspec": {
      "name": "python3",
      "display_name": "Python 3"
    },
    "language_info": {
      "name": "python"
    },
    "accelerator": "GPU"
  },
  "cells": [
    {
      "cell_type": "markdown",
      "metadata": {
        "id": "bTcw_fTdBdia"
      },
      "source": [
        "## **TF-IDF_SVM_NB**"
      ]
    },
    {
      "cell_type": "code",
      "metadata": {
        "colab": {
          "base_uri": "https://localhost:8080/"
        },
        "id": "7cd_qMjojNyL",
        "outputId": "a1f8c80f-c67e-497f-9822-7678768931d8"
      },
      "source": [
        "## importing libraries\n",
        "import numpy as np\n",
        "import pandas as pd\n",
        "import time\n",
        "import matplotlib.pyplot as plt\n",
        "import seaborn as sns\n",
        "import plotly.express as px\n",
        "import nltk\n",
        "nltk.download('stopwords')"
      ],
      "execution_count": null,
      "outputs": [
        {
          "output_type": "stream",
          "text": [
            "[nltk_data] Downloading package stopwords to /root/nltk_data...\n",
            "[nltk_data]   Unzipping corpora/stopwords.zip.\n"
          ],
          "name": "stdout"
        },
        {
          "output_type": "execute_result",
          "data": {
            "text/plain": [
              "True"
            ]
          },
          "metadata": {
            "tags": []
          },
          "execution_count": 1
        }
      ]
    },
    {
      "cell_type": "code",
      "metadata": {
        "id": "aWvAzLznjPuI",
        "colab": {
          "base_uri": "https://localhost:8080/"
        },
        "outputId": "c4afa5ff-aaf3-40da-a066-e46356a06975"
      },
      "source": [
        "## importing dataset\n",
        "df = pd.read_csv(\"/content/drive/MyDrive/NLP_Project/Vaccine_Sentiments.csv\", quotechar='\"', delimiter=',')"
      ],
      "execution_count": null,
      "outputs": [
        {
          "output_type": "stream",
          "text": [
            "/usr/local/lib/python3.7/dist-packages/IPython/core/interactiveshell.py:2718: DtypeWarning:\n",
            "\n",
            "Columns (13) have mixed types.Specify dtype option on import or set low_memory=False.\n",
            "\n"
          ],
          "name": "stderr"
        }
      ]
    },
    {
      "cell_type": "code",
      "metadata": {
        "id": "N_r6TzeI7aJN",
        "colab": {
          "base_uri": "https://localhost:8080/"
        },
        "outputId": "7d730eb3-02bc-43ca-9ee7-27f23f96e78f"
      },
      "source": [
        "len(df)"
      ],
      "execution_count": null,
      "outputs": [
        {
          "output_type": "execute_result",
          "data": {
            "text/plain": [
              "159306"
            ]
          },
          "metadata": {
            "tags": []
          },
          "execution_count": 3
        }
      ]
    },
    {
      "cell_type": "code",
      "metadata": {
        "id": "5lALN0ki3XrM"
      },
      "source": [
        "x = df.loc[0,'clean_text']"
      ],
      "execution_count": null,
      "outputs": []
    },
    {
      "cell_type": "code",
      "metadata": {
        "id": "4z5I-38UzsP0"
      },
      "source": [
        "from nltk.corpus import stopwords\n",
        "from sklearn.feature_extraction.text import TfidfVectorizer\n",
        "\n",
        "vectorizer = TfidfVectorizer (max_features=3000, min_df=7, max_df=0.8, stop_words=stopwords.words('english'))\n",
        "features = vectorizer.fit_transform(df['clean_text'].values).toarray()"
      ],
      "execution_count": null,
      "outputs": []
    },
    {
      "cell_type": "code",
      "metadata": {
        "id": "NMfOqDChj1RP"
      },
      "source": [
        "from sklearn.model_selection import train_test_split\n",
        "X_train, X_test, y_train, y_test = train_test_split(features, df['sentiment'].values, test_size=0.25, random_state=42)"
      ],
      "execution_count": null,
      "outputs": []
    },
    {
      "cell_type": "code",
      "metadata": {
        "id": "QbUJO_dX77pi"
      },
      "source": [
        "del features"
      ],
      "execution_count": null,
      "outputs": []
    },
    {
      "cell_type": "code",
      "metadata": {
        "id": "ffnXm-Q_s-Mg"
      },
      "source": [
        "result_accuracies = []"
      ],
      "execution_count": null,
      "outputs": []
    },
    {
      "cell_type": "code",
      "metadata": {
        "colab": {
          "base_uri": "https://localhost:8080/"
        },
        "id": "O1hyX3ZclAfb",
        "outputId": "b511c256-6463-4489-b5f2-fc0cdd15df98"
      },
      "source": [
        "from sklearn.naive_bayes import GaussianNB\n",
        "\n",
        "gnb_clf = GaussianNB()\n",
        "t0 = time.time()\n",
        "gnb_clf.fit(X_train, y_train)\n",
        "t1 = time.time()\n",
        "gnb_pred = gnb_clf.predict(X_test)\n",
        "t2 = time.time()\n",
        "time_to_train = t1-t0\n",
        "time_to_predict = t2-t1     ## results\n",
        "print(\"Time to train: %fs; Time for Prediction: %fs\" % (time_to_train, time_to_predict))"
      ],
      "execution_count": null,
      "outputs": [
        {
          "output_type": "stream",
          "text": [
            "Time to train: 4.998668s; Time for Prediction: 2.279715s\n"
          ],
          "name": "stdout"
        }
      ]
    },
    {
      "cell_type": "code",
      "metadata": {
        "colab": {
          "base_uri": "https://localhost:8080/"
        },
        "id": "D-amVlYn9t06",
        "outputId": "6358c8a7-2f94-4d0e-e1c7-f85ab1175d10"
      },
      "source": [
        "from sklearn.metrics import classification_report, confusion_matrix, accuracy_score\n",
        "\n",
        "print(confusion_matrix(y_test, gnb_pred))\n",
        "print()\n",
        "gnb_result = accuracy_score(y_test, gnb_pred)\n",
        "print(gnb_result)\n",
        "result_accuracies.append(gnb_result)\n",
        "print()\n",
        "print(classification_report(y_test, gnb_pred))"
      ],
      "execution_count": null,
      "outputs": [
        {
          "output_type": "stream",
          "text": [
            "[[ 4912  2107   575]\n",
            " [  657 13233   219]\n",
            " [ 3890  3538 10696]]\n",
            "\n",
            "0.7241569789338891\n",
            "\n",
            "              precision    recall  f1-score   support\n",
            "\n",
            "    Negative       0.52      0.65      0.58      7594\n",
            "     Neutral       0.70      0.94      0.80     14109\n",
            "    Positive       0.93      0.59      0.72     18124\n",
            "\n",
            "    accuracy                           0.72     39827\n",
            "   macro avg       0.72      0.72      0.70     39827\n",
            "weighted avg       0.77      0.72      0.72     39827\n",
            "\n"
          ],
          "name": "stdout"
        }
      ]
    },
    {
      "cell_type": "code",
      "metadata": {
        "colab": {
          "base_uri": "https://localhost:8080/"
        },
        "id": "HsYzw0YC6YoU",
        "outputId": "ea59e96f-6c9a-4555-e034-7882f590be9d"
      },
      "source": [
        "from sklearn.svm import LinearSVC\n",
        "\n",
        "lsvc = LinearSVC()\n",
        "t0 = time.time()\n",
        "lsvc.fit(X_train, y_train)\n",
        "t1 = time.time()\n",
        "lsvc_pred = lsvc.predict(X_test)\n",
        "t2 = time.time()\n",
        "time_to_train = t1-t0\n",
        "time_to_predict = t2-t1     ## results\n",
        "print(\"Time to train: %fs; Time for Prediction: %fs\" % (time_to_train, time_to_predict))"
      ],
      "execution_count": null,
      "outputs": [
        {
          "output_type": "stream",
          "text": [
            "Time to train: 3.177286s; Time for Prediction: 0.314837s\n"
          ],
          "name": "stdout"
        }
      ]
    },
    {
      "cell_type": "code",
      "metadata": {
        "colab": {
          "base_uri": "https://localhost:8080/"
        },
        "id": "InBb6LQI637m",
        "outputId": "a9d0708c-7ae0-43c3-847d-2a879fffdc50"
      },
      "source": [
        "from sklearn.metrics import classification_report, confusion_matrix, accuracy_score\n",
        "\n",
        "print(confusion_matrix(y_test, lsvc_pred))\n",
        "print()\n",
        "lsvc_result = accuracy_score(y_test, lsvc_pred)\n",
        "print(lsvc_result)\n",
        "result_accuracies.append(lsvc_result)\n",
        "print()\n",
        "print(classification_report(y_test, lsvc_pred))"
      ],
      "execution_count": null,
      "outputs": [
        {
          "output_type": "stream",
          "text": [
            "[[ 4841  1781   972]\n",
            " [  190 13631   288]\n",
            " [  576  1326 16222]]\n",
            "\n",
            "0.8711175835488487\n",
            "\n",
            "              precision    recall  f1-score   support\n",
            "\n",
            "    Negative       0.86      0.64      0.73      7594\n",
            "     Neutral       0.81      0.97      0.88     14109\n",
            "    Positive       0.93      0.90      0.91     18124\n",
            "\n",
            "    accuracy                           0.87     39827\n",
            "   macro avg       0.87      0.83      0.84     39827\n",
            "weighted avg       0.88      0.87      0.87     39827\n",
            "\n"
          ],
          "name": "stdout"
        }
      ]
    },
    {
      "cell_type": "markdown",
      "metadata": {
        "id": "XqBq6sXkLK7p"
      },
      "source": [
        "## **word2vec_LSTM**"
      ]
    },
    {
      "cell_type": "code",
      "metadata": {
        "colab": {
          "base_uri": "https://localhost:8080/"
        },
        "id": "6O-i-R63LsKH",
        "outputId": "5349c5e5-5492-428c-822b-bb3bcadc3b9d"
      },
      "source": [
        "import nltk\n",
        "nltk.download('punkt')\n",
        "from gensim.models import Word2Vec\n",
        "from nltk.corpus import stopwords\n",
        "from gensim.models import KeyedVectors"
      ],
      "execution_count": null,
      "outputs": [
        {
          "output_type": "stream",
          "text": [
            "[nltk_data] Downloading package punkt to /root/nltk_data...\n",
            "[nltk_data]   Unzipping tokenizers/punkt.zip.\n"
          ],
          "name": "stdout"
        }
      ]
    },
    {
      "cell_type": "code",
      "metadata": {
        "id": "5sUDIRPLL75R"
      },
      "source": [
        "X_data = df['clean_text'].copy()\n",
        "X_data = X_data.append(df['clean_text'].copy(), ignore_index=True)"
      ],
      "execution_count": null,
      "outputs": []
    },
    {
      "cell_type": "code",
      "metadata": {
        "id": "GVaVIj5cLyog"
      },
      "source": [
        "X_words = [nltk.word_tokenize(tweets) for tweets in X_data]\n",
        "model = Word2Vec(X_words, min_count =1)\n",
        "## words = model.wv.key_to_index\n",
        "word_vectors = model.wv\n",
        "word_vectors.save(\"word2vec.wordvectors\")\n",
        "model.save(\"word2vec.model\")"
      ],
      "execution_count": null,
      "outputs": []
    },
    {
      "cell_type": "code",
      "metadata": {
        "colab": {
          "base_uri": "https://localhost:8080/"
        },
        "id": "kSxkFzfhMUvt",
        "outputId": "3ff942d0-791f-4b3b-d85c-d2839bdee087"
      },
      "source": [
        "vector = model.wv['vaccine']\n",
        "print(vector)"
      ],
      "execution_count": null,
      "outputs": [
        {
          "output_type": "stream",
          "text": [
            "[ 8.0637507e-02 -3.0214934e+00  2.3933976e+00 -1.4601897e+00\n",
            "  8.6977619e-01 -2.8207569e+00 -9.3803543e-01  1.7642550e+00\n",
            "  9.5016074e-01 -1.4297305e+00 -3.8586283e-01  6.7514920e-01\n",
            "  1.0042628e+00  2.0258024e+00  4.3067464e-01 -1.8257488e+00\n",
            " -2.2346530e+00  3.8641717e+00  1.2886222e-01  1.4043387e+00\n",
            " -2.5795922e+00  2.0382875e-01 -6.9075876e-01 -5.4469621e-01\n",
            " -7.8550979e-02  2.1015790e+00 -3.5282404e+00 -4.1645865e+00\n",
            "  1.6817051e+00  8.6928672e-01  7.8335613e-01  1.8988515e+00\n",
            "  1.0305017e+00 -1.8073686e+00 -2.6870372e+00 -1.5417857e+00\n",
            "  1.8976196e+00 -1.1788439e+00 -2.8539906e+00 -2.3693559e-03\n",
            "  2.0444074e+00 -7.5153822e-01  6.0725357e-02  5.6363058e-01\n",
            " -4.7281690e+00 -2.5321176e+00 -1.3742599e+00  1.3206245e-01\n",
            "  9.8439753e-01 -2.9988339e+00 -6.5940905e-01 -9.3663526e-01\n",
            "  1.4009756e+00  3.1137145e-01 -1.2167155e+00 -1.5427831e+00\n",
            " -9.2836994e-01  2.5562606e+00 -6.5576935e-01  4.7180861e-01\n",
            "  1.6258188e+00 -2.9415011e+00  1.6978482e+00 -8.5641474e-01\n",
            "  1.2214072e+00 -2.5305741e+00  4.4200715e-02  1.9042776e+00\n",
            "  3.8082340e-01  1.1653876e+00  5.9034711e-01  1.3848735e+00\n",
            " -9.2241311e-01  1.4815607e+00  1.5850805e-01 -8.6074507e-01\n",
            "  1.1532001e+00  1.5849560e+00  9.4667208e-01  6.3306339e-02\n",
            "  9.3584055e-01 -1.5646164e+00 -2.4047466e-02  3.2690808e-01\n",
            "  3.2437327e+00  2.0003684e+00 -1.0425097e+00 -1.2239272e-01\n",
            "  5.6256396e-01  1.3428327e-01  6.7877245e-01 -1.3060375e+00\n",
            " -5.4049278e-03  6.9296801e-01 -3.8094828e-01 -1.0590870e+00\n",
            "  4.0521386e-01  2.5925248e+00 -1.2925237e+00  7.9767996e-01]\n"
          ],
          "name": "stdout"
        }
      ]
    },
    {
      "cell_type": "code",
      "metadata": {
        "colab": {
          "base_uri": "https://localhost:8080/"
        },
        "id": "CeQyGeHOMpE4",
        "outputId": "42a7a0a6-be15-4bdb-f82c-d1db8f41708c"
      },
      "source": [
        "similar = model.wv.most_similar('india')\n",
        "print(similar)"
      ],
      "execution_count": null,
      "outputs": [
        {
          "output_type": "stream",
          "text": [
            "[('pakistan', 0.7315430641174316), ('china', 0.6621567010879517), ('nepal', 0.6597976684570312), ('indian', 0.6488049030303955), ('russia', 0.6469321846961975), ('brazil', 0.639851450920105), ('pune', 0.6219085454940796), ('canada', 0.611748218536377), ('israel', 0.5943200588226318), ('europe', 0.5913971662521362)]\n"
          ],
          "name": "stdout"
        }
      ]
    },
    {
      "cell_type": "code",
      "metadata": {
        "id": "W3e8ws3hMrhl"
      },
      "source": [
        "## voc_size = len(words)\n",
        "## print(voc_size)"
      ],
      "execution_count": null,
      "outputs": []
    },
    {
      "cell_type": "code",
      "metadata": {
        "id": "vRYuqr39MwX2"
      },
      "source": [
        "import tensorflow as tf \n",
        "from tensorflow.keras.layers import Dense, LSTM\n",
        "from tensorflow.keras.models import Model\n",
        "from tensorflow.keras.models import Sequential\n",
        "from tensorflow.keras.preprocessing.text import Tokenizer"
      ],
      "execution_count": null,
      "outputs": []
    },
    {
      "cell_type": "code",
      "metadata": {
        "id": "u0lBqlCxPSIW"
      },
      "source": [
        "X_full = df['clean_text'].copy()\n",
        "Y_full = df['sentiment'].copy()"
      ],
      "execution_count": null,
      "outputs": []
    },
    {
      "cell_type": "code",
      "metadata": {
        "id": "3TLTqpopOiJC"
      },
      "source": [
        "tokenizer = Tokenizer()\n",
        "tokenizer.fit_on_texts(X_full)\n",
        "sequences = tokenizer.texts_to_sequences(X_full)"
      ],
      "execution_count": null,
      "outputs": []
    },
    {
      "cell_type": "code",
      "metadata": {
        "colab": {
          "base_uri": "https://localhost:8080/"
        },
        "id": "JE7C7TNTQB9h",
        "outputId": "e4ba2b5f-c2d3-4ee8-c322-af219e8c53ab"
      },
      "source": [
        "max_length = 0\n",
        "for tweet_number in range(len(sequences)):\n",
        "    numberofwords = len(sequences[tweet_number])\n",
        "    if (numberofwords) > (max_length):\n",
        "        max_length = numberofwords\n",
        "print(max_length)"
      ],
      "execution_count": null,
      "outputs": [
        {
          "output_type": "stream",
          "text": [
            "68\n"
          ],
          "name": "stdout"
        }
      ]
    },
    {
      "cell_type": "code",
      "metadata": {
        "colab": {
          "base_uri": "https://localhost:8080/"
        },
        "id": "CSsPfoDWQJw-",
        "outputId": "4b33458e-e7ba-4a52-86eb-9e9ea0d07aa3"
      },
      "source": [
        "# padding the sequence for shorter tweets\n",
        "\n",
        "from tensorflow.keras.preprocessing.sequence import pad_sequences\n",
        "import numpy as np\n",
        "\n",
        "data = pad_sequences(sequences, maxlen = max_length)\n",
        "print('shape of X:',data.shape)\n",
        "print('shape of y:',Y_full.shape)"
      ],
      "execution_count": null,
      "outputs": [
        {
          "output_type": "stream",
          "text": [
            "shape of X: (206906, 68)\n",
            "shape of y: (206906,)\n"
          ],
          "name": "stdout"
        }
      ]
    },
    {
      "cell_type": "code",
      "metadata": {
        "id": "QtlGweSaQLqd"
      },
      "source": [
        "#load my word embeddings\n",
        "\n",
        "wordembeddings = KeyedVectors.load(\"word2vec.wordvectors\", mmap='r')"
      ],
      "execution_count": null,
      "outputs": []
    },
    {
      "cell_type": "code",
      "metadata": {
        "colab": {
          "base_uri": "https://localhost:8080/"
        },
        "id": "aRclb06CQc5X",
        "outputId": "0bdcf170-e024-41fa-a286-019c269014b9"
      },
      "source": [
        "unique_words = len(tokenizer.word_index)\n",
        "total_words = unique_words + 1\n",
        "skipped_words = 0\n",
        "embedding_dim = 100\n",
        "embedding_matrix = np.zeros((total_words, embedding_dim))\n",
        "\n",
        "for word, index in tokenizer.word_index.items():\n",
        "    try:\n",
        "        embedding_vector = wordembeddings[word]\n",
        "    except:\n",
        "        skipped_words = skipped_words + 1\n",
        "        pass\n",
        "    if embedding_vector is not None:\n",
        "        embedding_matrix[index] = embedding_vector\n",
        "print('Embedding Matrix shape : ', embedding_matrix.shape)"
      ],
      "execution_count": null,
      "outputs": [
        {
          "output_type": "stream",
          "text": [
            "Embedding Matrix shape :  (83297, 100)\n"
          ],
          "name": "stdout"
        }
      ]
    },
    {
      "cell_type": "code",
      "metadata": {
        "id": "PqRWmMlPQfK2"
      },
      "source": [
        "from tensorflow.keras.layers import *\n",
        "#create the embedding layer\n",
        "embedding_layer = Embedding(total_words, \n",
        "                            embedding_dim, \n",
        "                            weights=[embedding_matrix],\n",
        "                            input_length = max_length,\n",
        "                            trainable = False)"
      ],
      "execution_count": null,
      "outputs": []
    },
    {
      "cell_type": "code",
      "metadata": {
        "id": "okAVwRTdQh6d"
      },
      "source": [
        "from sklearn.model_selection import train_test_split\n",
        "from sklearn.metrics import confusion_matrix\n",
        "from sklearn.metrics import classification_report\n",
        "## splitting training and testing data\n",
        "X_train, X_test, y_train, y_test = train_test_split(data, Y_full, test_size=0.25, random_state=0)"
      ],
      "execution_count": null,
      "outputs": []
    },
    {
      "cell_type": "code",
      "metadata": {
        "id": "R4ELvAGtQkLx"
      },
      "source": [
        "import tensorflow as tf\n",
        "import tensorflow.keras.layers as L\n",
        "from tensorflow.keras.losses import SparseCategoricalCrossentropy\n",
        "from tensorflow.keras.optimizers import Adam\n",
        "from tensorflow.keras.callbacks import ModelCheckpoint"
      ],
      "execution_count": null,
      "outputs": []
    },
    {
      "cell_type": "code",
      "metadata": {
        "id": "Ne-qLmL-Qml-"
      },
      "source": [
        "tf.keras.backend.clear_session()\n",
        "\n",
        "## hyper parameters\n",
        "EPOCHS = 10\n",
        "BATCH_SIZE = 32\n",
        "units = 256\n",
        "\n",
        "model = tf.keras.Sequential([\n",
        "    embedding_layer,\n",
        "    L.Bidirectional(L.LSTM(units,return_sequences=True)),\n",
        "    L.GlobalMaxPool1D(),\n",
        "    L.Dropout(0.4),\n",
        "    L.Dense(64, activation=\"relu\"),\n",
        "    L.Dropout(0.4),\n",
        "    L.Dense(3)\n",
        "])"
      ],
      "execution_count": null,
      "outputs": []
    },
    {
      "cell_type": "code",
      "metadata": {
        "colab": {
          "base_uri": "https://localhost:8080/"
        },
        "id": "q9kjgbp6QpMQ",
        "outputId": "0ef268e8-606f-4a65-cd2b-759a0a019b75"
      },
      "source": [
        "## compiling model with loss function and optimiser\n",
        "model.compile(loss=SparseCategoricalCrossentropy(from_logits=True),\n",
        "              optimizer='adam',metrics=['accuracy']\n",
        "             )\n",
        "\n",
        "model.summary()"
      ],
      "execution_count": null,
      "outputs": [
        {
          "output_type": "stream",
          "text": [
            "Model: \"sequential\"\n",
            "_________________________________________________________________\n",
            "Layer (type)                 Output Shape              Param #   \n",
            "=================================================================\n",
            "embedding_1 (Embedding)      (None, 68, 100)           8329700   \n",
            "_________________________________________________________________\n",
            "bidirectional (Bidirectional (None, 68, 512)           731136    \n",
            "_________________________________________________________________\n",
            "global_max_pooling1d (Global (None, 512)               0         \n",
            "_________________________________________________________________\n",
            "dropout (Dropout)            (None, 512)               0         \n",
            "_________________________________________________________________\n",
            "dense (Dense)                (None, 64)                32832     \n",
            "_________________________________________________________________\n",
            "dropout_1 (Dropout)          (None, 64)                0         \n",
            "_________________________________________________________________\n",
            "dense_1 (Dense)              (None, 3)                 195       \n",
            "=================================================================\n",
            "Total params: 9,093,863\n",
            "Trainable params: 764,163\n",
            "Non-trainable params: 8,329,700\n",
            "_________________________________________________________________\n"
          ],
          "name": "stdout"
        }
      ]
    },
    {
      "cell_type": "code",
      "metadata": {
        "colab": {
          "base_uri": "https://localhost:8080/"
        },
        "id": "pXbti09uQrKG",
        "outputId": "9c453ba0-220d-4f54-df67-72cc7cbba038"
      },
      "source": [
        "checkpoint = ModelCheckpoint(\"best_model_COVID.hdf5\", monitor='loss', verbose=1,\n",
        "    save_best_only=False, mode='auto', period=1)"
      ],
      "execution_count": null,
      "outputs": [
        {
          "output_type": "stream",
          "text": [
            "WARNING:tensorflow:`period` argument is deprecated. Please use `save_freq` to specify the frequency in number of batches seen.\n"
          ],
          "name": "stdout"
        }
      ]
    },
    {
      "cell_type": "code",
      "metadata": {
        "colab": {
          "base_uri": "https://localhost:8080/"
        },
        "id": "RSt-kwhAQuO8",
        "outputId": "93650d83-4fa5-4704-800f-f39d008ed228"
      },
      "source": [
        "CovidVaccine_model = model.fit(X_train, y_train,epochs=EPOCHS, batch_size=BATCH_SIZE,verbose=1,\n",
        "          validation_data=(X_test, y_test),\n",
        "          callbacks=[checkpoint])"
      ],
      "execution_count": null,
      "outputs": [
        {
          "output_type": "stream",
          "text": [
            "Epoch 1/10\n",
            "4850/4850 [==============================] - 224s 45ms/step - loss: 0.6884 - accuracy: 0.7064 - val_loss: 0.4234 - val_accuracy: 0.8465\n",
            "\n",
            "Epoch 00001: saving model to best_model_COVID.hdf5\n",
            "Epoch 2/10\n",
            "4850/4850 [==============================] - 219s 45ms/step - loss: 0.4307 - accuracy: 0.8470 - val_loss: 0.3476 - val_accuracy: 0.8796\n",
            "\n",
            "Epoch 00002: saving model to best_model_COVID.hdf5\n",
            "Epoch 3/10\n",
            "4850/4850 [==============================] - 223s 46ms/step - loss: 0.3405 - accuracy: 0.8840 - val_loss: 0.3069 - val_accuracy: 0.8971\n",
            "\n",
            "Epoch 00003: saving model to best_model_COVID.hdf5\n",
            "Epoch 4/10\n",
            "4850/4850 [==============================] - 224s 46ms/step - loss: 0.2939 - accuracy: 0.9023 - val_loss: 0.2876 - val_accuracy: 0.9046\n",
            "\n",
            "Epoch 00004: saving model to best_model_COVID.hdf5\n",
            "Epoch 5/10\n",
            "4850/4850 [==============================] - 223s 46ms/step - loss: 0.2553 - accuracy: 0.9158 - val_loss: 0.2741 - val_accuracy: 0.9123\n",
            "\n",
            "Epoch 00005: saving model to best_model_COVID.hdf5\n",
            "Epoch 6/10\n",
            "4850/4850 [==============================] - 223s 46ms/step - loss: 0.2260 - accuracy: 0.9250 - val_loss: 0.2623 - val_accuracy: 0.9156\n",
            "\n",
            "Epoch 00006: saving model to best_model_COVID.hdf5\n",
            "Epoch 7/10\n",
            "4850/4850 [==============================] - 223s 46ms/step - loss: 0.2021 - accuracy: 0.9330 - val_loss: 0.2631 - val_accuracy: 0.9157\n",
            "\n",
            "Epoch 00007: saving model to best_model_COVID.hdf5\n",
            "Epoch 8/10\n",
            "4850/4850 [==============================] - 223s 46ms/step - loss: 0.1823 - accuracy: 0.9395 - val_loss: 0.2765 - val_accuracy: 0.9181\n",
            "\n",
            "Epoch 00008: saving model to best_model_COVID.hdf5\n",
            "Epoch 9/10\n",
            "4850/4850 [==============================] - 222s 46ms/step - loss: 0.1631 - accuracy: 0.9459 - val_loss: 0.2712 - val_accuracy: 0.9193\n",
            "\n",
            "Epoch 00009: saving model to best_model_COVID.hdf5\n",
            "Epoch 10/10\n",
            "4850/4850 [==============================] - 222s 46ms/step - loss: 0.1519 - accuracy: 0.9504 - val_loss: 0.2827 - val_accuracy: 0.9175\n",
            "\n",
            "Epoch 00010: saving model to best_model_COVID.hdf5\n"
          ],
          "name": "stdout"
        }
      ]
    },
    {
      "cell_type": "code",
      "metadata": {
        "colab": {
          "base_uri": "https://localhost:8080/"
        },
        "id": "nmndawwpQwab",
        "outputId": "71a35ee8-cec2-491a-8e9c-6b30e7a1195e"
      },
      "source": [
        "pred = model.predict_classes(X_test)"
      ],
      "execution_count": null,
      "outputs": [
        {
          "output_type": "stream",
          "text": [
            "/usr/local/lib/python3.7/dist-packages/tensorflow/python/keras/engine/sequential.py:450: UserWarning:\n",
            "\n",
            "`model.predict_classes()` is deprecated and will be removed after 2021-01-01. Please use instead:* `np.argmax(model.predict(x), axis=-1)`,   if your model does multi-class classification   (e.g. if it uses a `softmax` last-layer activation).* `(model.predict(x) > 0.5).astype(\"int32\")`,   if your model does binary classification   (e.g. if it uses a `sigmoid` last-layer activation).\n",
            "\n"
          ],
          "name": "stderr"
        }
      ]
    },
    {
      "cell_type": "code",
      "metadata": {
        "colab": {
          "base_uri": "https://localhost:8080/"
        },
        "id": "ZYNZmibbTXye",
        "outputId": "7ec84cbd-6ccc-4cf1-991e-4946751edb86"
      },
      "source": [
        "loss, acc = model.evaluate(X_test,y_test,verbose=0)\n",
        "print('Test loss: {}'.format(loss))\n",
        "print('Test Accuracy: {}'.format(acc))"
      ],
      "execution_count": null,
      "outputs": [
        {
          "output_type": "stream",
          "text": [
            "Test loss: 0.2827487289905548\n",
            "Test Accuracy: 0.9175285696983337\n"
          ],
          "name": "stdout"
        }
      ]
    },
    {
      "cell_type": "code",
      "metadata": {
        "colab": {
          "base_uri": "https://localhost:8080/"
        },
        "id": "9HERrB6mTZ_7",
        "outputId": "3a421689-5b72-46be-be16-838d547015d1"
      },
      "source": [
        "from sklearn.metrics import classification_report, confusion_matrix, accuracy_score\n",
        "\n",
        "print(confusion_matrix(y_test, pred))\n",
        "print()\n",
        "wlstm_result = accuracy_score(y_test, pred)\n",
        "print(wlstm_result)\n",
        "result_accuracies.append(wlstm_result)\n",
        "print()\n",
        "print(classification_report(y_test, pred, target_names=labels))"
      ],
      "execution_count": null,
      "outputs": [
        {
          "output_type": "stream",
          "text": [
            "[[ 8552   697   830]\n",
            " [  761 17372   658]\n",
            " [  690   630 21537]]\n",
            "\n",
            "0.9175285634194907\n",
            "\n",
            "              precision    recall  f1-score   support\n",
            "\n",
            "    Negative       0.85      0.85      0.85     10079\n",
            "     Neutral       0.93      0.92      0.93     18791\n",
            "    Positive       0.94      0.94      0.94     22857\n",
            "\n",
            "    accuracy                           0.92     51727\n",
            "   macro avg       0.91      0.91      0.91     51727\n",
            "weighted avg       0.92      0.92      0.92     51727\n",
            "\n"
          ],
          "name": "stdout"
        }
      ]
    },
    {
      "cell_type": "markdown",
      "metadata": {
        "id": "708XQleRbUu9"
      },
      "source": [
        "## **Keras_LSTM**"
      ]
    },
    {
      "cell_type": "code",
      "metadata": {
        "id": "NKVpR-VxVEFW"
      },
      "source": [
        "from tensorflow.keras.preprocessing.text import Tokenizer\n",
        "from tensorflow.keras.preprocessing.sequence import pad_sequences\n",
        "import tensorflow.keras.layers as L\n",
        "from tensorflow.keras.losses import SparseCategoricalCrossentropy\n",
        "from tensorflow.keras.optimizers import Adam\n",
        "import tensorflow as tf\n",
        "from tensorflow.keras.callbacks import ModelCheckpoint\n",
        "from keras.utils import plot_model\n",
        "\n",
        "from sklearn.model_selection import train_test_split\n",
        "from sklearn.metrics import confusion_matrix"
      ],
      "execution_count": null,
      "outputs": []
    },
    {
      "cell_type": "code",
      "metadata": {
        "colab": {
          "base_uri": "https://localhost:8080/",
          "height": 194
        },
        "id": "KSGrw7AcOSEw",
        "outputId": "22c8a407-24eb-4bbf-a9c4-539f86c11458"
      },
      "source": [
        "## importing dataset\n",
        "df = pd.read_csv(\"/content/drive/MyDrive/NLP_Project/sentiment_tweets.csv\", quotechar='\"', delimiter=',')\n",
        "df.head()"
      ],
      "execution_count": null,
      "outputs": [
        {
          "output_type": "execute_result",
          "data": {
            "text/html": [
              "<div>\n",
              "<style scoped>\n",
              "    .dataframe tbody tr th:only-of-type {\n",
              "        vertical-align: middle;\n",
              "    }\n",
              "\n",
              "    .dataframe tbody tr th {\n",
              "        vertical-align: top;\n",
              "    }\n",
              "\n",
              "    .dataframe thead th {\n",
              "        text-align: right;\n",
              "    }\n",
              "</style>\n",
              "<table border=\"1\" class=\"dataframe\">\n",
              "  <thead>\n",
              "    <tr style=\"text-align: right;\">\n",
              "      <th></th>\n",
              "      <th>Unnamed: 0</th>\n",
              "      <th>clean_text</th>\n",
              "      <th>sentiment</th>\n",
              "    </tr>\n",
              "  </thead>\n",
              "  <tbody>\n",
              "    <tr>\n",
              "      <th>0</th>\n",
              "      <td>0</td>\n",
              "      <td>australia to manufacture covid 19 vaccine and ...</td>\n",
              "      <td>Positive</td>\n",
              "    </tr>\n",
              "    <tr>\n",
              "      <th>1</th>\n",
              "      <td>1</td>\n",
              "      <td>coronavirusvaccine coronavaccine covidvaccine...</td>\n",
              "      <td>Positive</td>\n",
              "    </tr>\n",
              "    <tr>\n",
              "      <th>2</th>\n",
              "      <td>2</td>\n",
              "      <td>deaths due to covid 19 in affected countries\\n...</td>\n",
              "      <td>Negative</td>\n",
              "    </tr>\n",
              "    <tr>\n",
              "      <th>3</th>\n",
              "      <td>3</td>\n",
              "      <td>stay safe di amp da</td>\n",
              "      <td>Positive</td>\n",
              "    </tr>\n",
              "    <tr>\n",
              "      <th>4</th>\n",
              "      <td>4</td>\n",
              "      <td>this is what passes for leadership in our cou...</td>\n",
              "      <td>Neutral</td>\n",
              "    </tr>\n",
              "  </tbody>\n",
              "</table>\n",
              "</div>"
            ],
            "text/plain": [
              "   Unnamed: 0                                         clean_text sentiment\n",
              "0           0  australia to manufacture covid 19 vaccine and ...  Positive\n",
              "1           1   coronavirusvaccine coronavaccine covidvaccine...  Positive\n",
              "2           2  deaths due to covid 19 in affected countries\\n...  Negative\n",
              "3           3                               stay safe di amp da   Positive\n",
              "4           4   this is what passes for leadership in our cou...   Neutral"
            ]
          },
          "metadata": {
            "tags": []
          },
          "execution_count": 23
        }
      ]
    },
    {
      "cell_type": "code",
      "metadata": {
        "colab": {
          "base_uri": "https://localhost:8080/",
          "height": 194
        },
        "id": "3tMPtLtZUT5d",
        "outputId": "aded729c-1a99-445f-c367-cd70c87b3683"
      },
      "source": [
        "encoding = {'Negative': 0,\n",
        "            'Neutral': 1,\n",
        "            'Positive':2\n",
        "           }\n",
        "\n",
        "labels = ['Negative', 'Neutral', 'Positive']\n",
        "           \n",
        "df.replace(encoding, inplace=True)\n",
        "df.head()"
      ],
      "execution_count": null,
      "outputs": [
        {
          "output_type": "execute_result",
          "data": {
            "text/html": [
              "<div>\n",
              "<style scoped>\n",
              "    .dataframe tbody tr th:only-of-type {\n",
              "        vertical-align: middle;\n",
              "    }\n",
              "\n",
              "    .dataframe tbody tr th {\n",
              "        vertical-align: top;\n",
              "    }\n",
              "\n",
              "    .dataframe thead th {\n",
              "        text-align: right;\n",
              "    }\n",
              "</style>\n",
              "<table border=\"1\" class=\"dataframe\">\n",
              "  <thead>\n",
              "    <tr style=\"text-align: right;\">\n",
              "      <th></th>\n",
              "      <th>Unnamed: 0</th>\n",
              "      <th>clean_text</th>\n",
              "      <th>sentiment</th>\n",
              "    </tr>\n",
              "  </thead>\n",
              "  <tbody>\n",
              "    <tr>\n",
              "      <th>0</th>\n",
              "      <td>0</td>\n",
              "      <td>australia to manufacture covid 19 vaccine and ...</td>\n",
              "      <td>2</td>\n",
              "    </tr>\n",
              "    <tr>\n",
              "      <th>1</th>\n",
              "      <td>1</td>\n",
              "      <td>coronavirusvaccine coronavaccine covidvaccine...</td>\n",
              "      <td>2</td>\n",
              "    </tr>\n",
              "    <tr>\n",
              "      <th>2</th>\n",
              "      <td>2</td>\n",
              "      <td>deaths due to covid 19 in affected countries\\n...</td>\n",
              "      <td>0</td>\n",
              "    </tr>\n",
              "    <tr>\n",
              "      <th>3</th>\n",
              "      <td>3</td>\n",
              "      <td>stay safe di amp da</td>\n",
              "      <td>2</td>\n",
              "    </tr>\n",
              "    <tr>\n",
              "      <th>4</th>\n",
              "      <td>4</td>\n",
              "      <td>this is what passes for leadership in our cou...</td>\n",
              "      <td>1</td>\n",
              "    </tr>\n",
              "  </tbody>\n",
              "</table>\n",
              "</div>"
            ],
            "text/plain": [
              "   Unnamed: 0                                         clean_text  sentiment\n",
              "0           0  australia to manufacture covid 19 vaccine and ...          2\n",
              "1           1   coronavirusvaccine coronavaccine covidvaccine...          2\n",
              "2           2  deaths due to covid 19 in affected countries\\n...          0\n",
              "3           3                               stay safe di amp da           2\n",
              "4           4   this is what passes for leadership in our cou...          1"
            ]
          },
          "metadata": {
            "tags": []
          },
          "execution_count": 24
        }
      ]
    },
    {
      "cell_type": "code",
      "metadata": {
        "id": "vrypZF4lVNkW"
      },
      "source": [
        "X_data = df['clean_text'].copy()\n",
        "y_data = df['sentiment'].copy()"
      ],
      "execution_count": null,
      "outputs": []
    },
    {
      "cell_type": "code",
      "metadata": {
        "colab": {
          "base_uri": "https://localhost:8080/"
        },
        "id": "7Uom31JGVWiB",
        "outputId": "4401d801-9da8-47c9-f5c3-41ea61ff8b71"
      },
      "source": [
        "## tokenise the sentences (keras)\n",
        "tokenizer = Tokenizer()\n",
        "tokenizer.fit_on_texts(X_data)\n",
        "\n",
        "X = tokenizer.texts_to_sequences(X_data)\n",
        "\n",
        "vocab_size = len(tokenizer.word_index)+1\n",
        "\n",
        "print(\"Vocabulary size: {}\".format(vocab_size))\n",
        "print(\"\\nExample:\\n\")\n",
        "print(\"Sentence:\\n{}\".format(X_data[6]))\n",
        "print(\"\\nAfter tokenizing :\\n{}\".format(X[6]))\n",
        "\n",
        "X = pad_sequences(X, padding='post')\n",
        "print(\"\\nAfter padding :\\n{}\".format(X[6]))"
      ],
      "execution_count": null,
      "outputs": [
        {
          "output_type": "stream",
          "text": [
            "Vocabulary size: 83297\n",
            "\n",
            "Example:\n",
            "\n",
            "Sentence:\n",
            " \n",
            "\n",
            "After tokenizing :\n",
            "[]\n",
            "\n",
            "After padding :\n",
            "[0 0 0 0 0 0 0 0 0 0 0 0 0 0 0 0 0 0 0 0 0 0 0 0 0 0 0 0 0 0 0 0 0 0 0 0 0\n",
            " 0 0 0 0 0 0 0 0 0 0 0 0 0 0 0 0 0 0 0 0 0 0 0 0 0 0 0 0 0 0 0]\n"
          ],
          "name": "stdout"
        }
      ]
    },
    {
      "cell_type": "code",
      "metadata": {
        "id": "f6gNxFgxVlTo"
      },
      "source": [
        "## splitting training and testing data\n",
        "\n",
        "X_train, X_test, y_train, y_test = train_test_split(X, y_data, test_size=0.25, random_state=0)"
      ],
      "execution_count": null,
      "outputs": []
    },
    {
      "cell_type": "code",
      "metadata": {
        "colab": {
          "base_uri": "https://localhost:8080/"
        },
        "id": "yA7H-eT_WPek",
        "outputId": "93973d07-0b58-4bdd-9cf8-ba324dcbeb9d"
      },
      "source": [
        "X_train.shape, X_test.shape, y_train.shape, y_test.shape"
      ],
      "execution_count": null,
      "outputs": [
        {
          "output_type": "execute_result",
          "data": {
            "text/plain": [
              "((155179, 68), (51727, 68), (155179,), (51727,))"
            ]
          },
          "metadata": {
            "tags": []
          },
          "execution_count": 28
        }
      ]
    },
    {
      "cell_type": "code",
      "metadata": {
        "id": "fsx3qIhZWZI5"
      },
      "source": [
        "tf.keras.backend.clear_session()\n",
        "\n",
        "## hyper parameters\n",
        "EPOCHS = 2\n",
        "BATCH_SIZE = 32\n",
        "embedding_dim = 16\n",
        "units = 256\n",
        "\n",
        "model = tf.keras.Sequential([\n",
        "    L.Embedding(vocab_size, embedding_dim, input_length=X_train.shape[1]),\n",
        "    L.Bidirectional(L.LSTM(units,return_sequences=True)),\n",
        "    L.GlobalMaxPool1D(),\n",
        "    L.Dropout(0.4),\n",
        "    L.Dense(64, activation=\"relu\"),\n",
        "    L.Dropout(0.4),\n",
        "    L.Dense(3)\n",
        "])"
      ],
      "execution_count": null,
      "outputs": []
    },
    {
      "cell_type": "code",
      "metadata": {
        "colab": {
          "base_uri": "https://localhost:8080/"
        },
        "id": "6_-4OFbVWd4l",
        "outputId": "bb9f1b93-a2d4-448e-ec32-bd427a477550"
      },
      "source": [
        "## compiling model with loss function and optimiser\n",
        "model.compile(loss=SparseCategoricalCrossentropy(from_logits=True),\n",
        "              optimizer='adam',metrics=['accuracy']\n",
        "             )\n",
        "\n",
        "model.summary()"
      ],
      "execution_count": null,
      "outputs": [
        {
          "output_type": "stream",
          "text": [
            "Model: \"sequential\"\n",
            "_________________________________________________________________\n",
            "Layer (type)                 Output Shape              Param #   \n",
            "=================================================================\n",
            "embedding (Embedding)        (None, 68, 16)            1332752   \n",
            "_________________________________________________________________\n",
            "bidirectional (Bidirectional (None, 68, 512)           559104    \n",
            "_________________________________________________________________\n",
            "global_max_pooling1d (Global (None, 512)               0         \n",
            "_________________________________________________________________\n",
            "dropout (Dropout)            (None, 512)               0         \n",
            "_________________________________________________________________\n",
            "dense (Dense)                (None, 64)                32832     \n",
            "_________________________________________________________________\n",
            "dropout_1 (Dropout)          (None, 64)                0         \n",
            "_________________________________________________________________\n",
            "dense_1 (Dense)              (None, 3)                 195       \n",
            "=================================================================\n",
            "Total params: 1,924,883\n",
            "Trainable params: 1,924,883\n",
            "Non-trainable params: 0\n",
            "_________________________________________________________________\n"
          ],
          "name": "stdout"
        }
      ]
    },
    {
      "cell_type": "code",
      "metadata": {
        "colab": {
          "base_uri": "https://localhost:8080/",
          "height": 758
        },
        "id": "yWXAUGJeFuE0",
        "outputId": "87de10cf-76f8-460f-f5e3-abaed42fe297"
      },
      "source": [
        "plot_model(model)"
      ],
      "execution_count": null,
      "outputs": [
        {
          "output_type": "execute_result",
          "data": {
            "image/png": "[encoded data removed]",
            "text/plain": [
              "<IPython.core.display.Image object>"
            ]
          },
          "metadata": {
            "tags": []
          },
          "execution_count": 31
        }
      ]
    },
    {
      "cell_type": "code",
      "metadata": {
        "colab": {
          "base_uri": "https://localhost:8080/"
        },
        "id": "LUVaXUMJbVIi",
        "outputId": "8f6e6d7e-32b3-45c4-963d-2bc2a7f87bfc"
      },
      "source": [
        "checkpoint = ModelCheckpoint(\"best_model_COVID.hdf5\", monitor='loss', verbose=1,\n",
        "    save_best_only=False, mode='auto', period=1)"
      ],
      "execution_count": null,
      "outputs": [
        {
          "output_type": "stream",
          "text": [
            "WARNING:tensorflow:`period` argument is deprecated. Please use `save_freq` to specify the frequency in number of batches seen.\n"
          ],
          "name": "stdout"
        }
      ]
    },
    {
      "cell_type": "code",
      "metadata": {
        "colab": {
          "base_uri": "https://localhost:8080/"
        },
        "id": "hdouSLGRbZSc",
        "outputId": "cec53619-d486-4ad1-9a5c-e5d8afdcc9bd"
      },
      "source": [
        "CovidVaccine_model = model.fit(X_train, y_train,epochs=EPOCHS, batch_size=BATCH_SIZE,verbose=1,\n",
        "          validation_data=(X_test, y_test),\n",
        "          callbacks=[checkpoint])"
      ],
      "execution_count": null,
      "outputs": [
        {
          "output_type": "stream",
          "text": [
            "Epoch 1/2\n",
            "4850/4850 [==============================] - 353s 66ms/step - loss: 0.5448 - accuracy: 0.7741 - val_loss: 0.1413 - val_accuracy: 0.9554\n",
            "\n",
            "Epoch 00001: saving model to best_model_COVID.hdf5\n",
            "Epoch 2/2\n",
            "4850/4850 [==============================] - 306s 63ms/step - loss: 0.1131 - accuracy: 0.9640 - val_loss: 0.1193 - val_accuracy: 0.9628\n",
            "\n",
            "Epoch 00002: saving model to best_model_COVID.hdf5\n"
          ],
          "name": "stdout"
        }
      ]
    },
    {
      "cell_type": "code",
      "metadata": {
        "colab": {
          "base_uri": "https://localhost:8080/"
        },
        "id": "cQV64IPBbd2u",
        "outputId": "af385a41-f3da-4d3b-ebe5-773b8987467f"
      },
      "source": [
        "lstm_pred = model.predict_classes(X_test)\n",
        "lstm_pred"
      ],
      "execution_count": null,
      "outputs": [
        {
          "output_type": "stream",
          "text": [
            "/usr/local/lib/python3.7/dist-packages/tensorflow/python/keras/engine/sequential.py:450: UserWarning:\n",
            "\n",
            "`model.predict_classes()` is deprecated and will be removed after 2021-01-01. Please use instead:* `np.argmax(model.predict(x), axis=-1)`,   if your model does multi-class classification   (e.g. if it uses a `softmax` last-layer activation).* `(model.predict(x) > 0.5).astype(\"int32\")`,   if your model does binary classification   (e.g. if it uses a `sigmoid` last-layer activation).\n",
            "\n"
          ],
          "name": "stderr"
        },
        {
          "output_type": "execute_result",
          "data": {
            "text/plain": [
              "array([2, 0, 0, ..., 0, 1, 1])"
            ]
          },
          "metadata": {
            "tags": []
          },
          "execution_count": 34
        }
      ]
    },
    {
      "cell_type": "code",
      "metadata": {
        "colab": {
          "base_uri": "https://localhost:8080/"
        },
        "id": "jtnMvX7We9Zu",
        "outputId": "76fb66ff-697b-4287-f7af-99b13271c7c3"
      },
      "source": [
        "loss, acc = model.evaluate(X_test,y_test,verbose=0)\n",
        "print('Test loss: {}'.format(loss))\n",
        "print('Test Accuracy: {}'.format(acc))"
      ],
      "execution_count": null,
      "outputs": [
        {
          "output_type": "stream",
          "text": [
            "Test loss: 0.11934241652488708\n",
            "Test Accuracy: 0.9628047347068787\n"
          ],
          "name": "stdout"
        }
      ]
    },
    {
      "cell_type": "code",
      "metadata": {
        "colab": {
          "base_uri": "https://localhost:8080/"
        },
        "id": "YoWT3cChfZlM",
        "outputId": "fbb3697f-31ef-4bb4-ced4-950830b6f106"
      },
      "source": [
        "from sklearn.metrics import classification_report, confusion_matrix, accuracy_score\n",
        "\n",
        "print(confusion_matrix(y_test, lstm_pred))\n",
        "print()\n",
        "klstm_result = accuracy_score(y_test, lstm_pred)\n",
        "print(klstm_result)\n",
        "result_accuracies.append(klstm_result)\n",
        "print()\n",
        "print(classification_report(y_test, lstm_pred, target_names=labels))"
      ],
      "execution_count": null,
      "outputs": [
        {
          "output_type": "stream",
          "text": [
            "[[ 9483   116   480]\n",
            " [  414 17930   447]\n",
            " [  353   114 22390]]\n",
            "\n",
            "0.9628047248052275\n",
            "\n",
            "              precision    recall  f1-score   support\n",
            "\n",
            "    Negative       0.93      0.94      0.93     10079\n",
            "     Neutral       0.99      0.95      0.97     18791\n",
            "    Positive       0.96      0.98      0.97     22857\n",
            "\n",
            "    accuracy                           0.96     51727\n",
            "   macro avg       0.96      0.96      0.96     51727\n",
            "weighted avg       0.96      0.96      0.96     51727\n",
            "\n"
          ],
          "name": "stdout"
        }
      ]
    },
    {
      "cell_type": "code",
      "metadata": {
        "id": "yfB6z0QsfzZI"
      },
      "source": [
        "# conf = confusion_matrix(y_test, pred)\n",
        "\n",
        "# cm = pd.DataFrame(\n",
        "#     conf, index = [i for i in labels],\n",
        "#     columns = [i for i in labels]\n",
        "# )\n",
        "\n",
        "# \n",
        "# plt.figure(figsize = (12,7))\n",
        "# sns.heatmap(cm, annot=True, fmt=\"d\")\n",
        "# plt.show()"
      ],
      "execution_count": null,
      "outputs": []
    },
    {
      "cell_type": "markdown",
      "metadata": {
        "id": "biXVHSNDtBFL"
      },
      "source": [
        "## **Comparision Visualization**"
      ]
    },
    {
      "cell_type": "code",
      "metadata": {
        "id": "4ZlyiA6ntHAg"
      },
      "source": [
        "names = ['GNB' , 'CNB', 'SVC', 'word2vec_LSTM',  'keras_LSTM']\n",
        "result_accuracies = [0.75620082355443, 0.7907282463703675, 0.8708991435807218, 0.9175285634194907, 0.9628047248052275]"
      ],
      "execution_count": null,
      "outputs": []
    },
    {
      "cell_type": "code",
      "metadata": {
        "colab": {
          "base_uri": "https://localhost:8080/",
          "height": 393
        },
        "id": "iRP3IWZIsvDB",
        "outputId": "44a3811d-0332-4401-b02e-f60f058a00ec"
      },
      "source": [
        "fig = plt.figure(figsize=(10, 6))\n",
        "plt.bar(names, result_accuracies)"
      ],
      "execution_count": null,
      "outputs": [
        {
          "output_type": "execute_result",
          "data": {
            "text/plain": [
              "<BarContainer object of 5 artists>"
            ]
          },
          "metadata": {
            "tags": []
          },
          "execution_count": 14
        },
        {
          "output_type": "display_data",
          "data": {
            "image/png": "[encoded data removed]",
            "text/plain": [
              "<Figure size 720x432 with 1 Axes>"
            ]
          },
          "metadata": {
            "tags": [],
            "needs_background": "light"
          }
        }
      ]
    },
    {
      "cell_type": "code",
      "metadata": {
        "colab": {
          "base_uri": "https://localhost:8080/",
          "height": 374
        },
        "id": "_jXb4SGo0HNt",
        "outputId": "94b23cd0-3512-4a2d-f62e-a2b99e4b64e2"
      },
      "source": [
        "pos_f1 = [0.78, 0.85, 0.91, 0.94, 0.97]\n",
        "neg_f1 = [0.6, 0.67,  0.74, 0.85, 0.93]\n",
        "neu_f1 = [0.82, 0.78, 0.88, 0.93, 0.97]\n",
        "\n",
        "index = ['gnb', 'cnb', 'svc', 'klstm', 'wlstm']\n",
        "df = pd.DataFrame({'positive': pos_f1,\n",
        "                   'neutral': neu_f1,\n",
        "                   'negative': neg_f1}, index=index)\n",
        "ax = df.plot.bar(figsize=(10, 6), rot=0)"
      ],
      "execution_count": null,
      "outputs": [
        {
          "output_type": "display_data",
          "data": {
            "image/png": "[encoded data removed]",
            "text/plain": [
              "<Figure size 720x432 with 1 Axes>"
            ]
          },
          "metadata": {
            "tags": [],
            "needs_background": "light"
          }
        }
      ]
    }
  ]
}